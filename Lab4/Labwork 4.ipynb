{
 "cells": [
  {
   "cell_type": "markdown",
   "id": "patent-gallery",
   "metadata": {},
   "source": [
    "# Лабораторная работа №4 \"Классификация в многомерном пространстве\""
   ]
  },
  {
   "cell_type": "code",
   "execution_count": 1,
   "id": "received-degree",
   "metadata": {},
   "outputs": [],
   "source": [
    "import numpy as np\n",
    "import matplotlib.pyplot as plt\n",
    "from abc import ABC, abstractmethod\n",
    "np.random.seed(42)"
   ]
  },
  {
   "cell_type": "markdown",
   "id": "related-pollution",
   "metadata": {},
   "source": [
    "## Постановка задачи\n",
    "\n",
    "Имеем обучающую выборку в виде векторов многомерного пространства (размерность: 4 - 6). Выборка разделена на 3 непересекающиеся классы. \n",
    "\n",
    "Необходимо, на основе обучающей выборки, провести классификацию тестовой выборки тремя разными способами. Способы будут описаны ниже."
   ]
  },
  {
   "cell_type": "markdown",
   "id": "possible-essay",
   "metadata": {},
   "source": [
    "## Создание выборок"
   ]
  },
  {
   "cell_type": "code",
   "execution_count": 2,
   "id": "disciplinary-metabolism",
   "metadata": {},
   "outputs": [],
   "source": [
    "class ABC_Sample(ABC):\n",
    "  \n",
    "    @abstractmethod\n",
    "    def generate(self, n):\n",
    "        \"\"\"\n",
    "        сгенерировать множество из n точек класса\n",
    "        \"\"\"\n",
    "        pass"
   ]
  },
  {
   "cell_type": "code",
   "execution_count": 3,
   "id": "waiting-muslim",
   "metadata": {},
   "outputs": [],
   "source": [
    "class Uniform_Sample(ABC_Sample):\n",
    "    def __init__(self, limits_list):\n",
    "        \"\"\"\n",
    "        limits_list is list with limits for each dimension\n",
    "        limits_list = [[min_1, max_1], ..., [min_n, max_n]]\n",
    "        \"\"\"\n",
    "        self.limits_list = np.array(limits_list)\n",
    "        self.dim = len(limits_list)\n",
    "    def generate(self,n):\n",
    "        return np.random.random((n,self.dim)) * \\\n",
    "            (self.limits_list[:,1] - self.limits_list[:,0]) + self.limits_list[:,0]"
   ]
  },
  {
   "cell_type": "code",
   "execution_count": 4,
   "id": "separate-costa",
   "metadata": {},
   "outputs": [],
   "source": [
    "class Normal_sample(ABC_Sample):\n",
    "    def __init__ (self, params_list):\n",
    "        \"\"\"\n",
    "        limits_list is list with mean and Standard deviation for each dimension\n",
    "        limits_list = [[mu_1, sigma_1], ..., [mu_n, sigma_n]]\n",
    "        \"\"\"\n",
    "        self.params_list = np.array(params_list)\n",
    "        self.dim = len(params_list)\n",
    "    def generate(self, n):\n",
    "        return np.hstack([np.random.normal(item[0], item[1],size =  (n,1)) \n",
    "                         for item in self.params_list])"
   ]
  },
  {
   "cell_type": "markdown",
   "id": "processed-graham",
   "metadata": {},
   "source": [
    "Для наглядности протестируем методы для варианта с двухмерной классификацией. Создадим обучающую и тестовую выборку.\n",
    "\n",
    "Обучающая выборка состоит из точек трех классов. \n",
    "\n",
    "- Класс 0. Это равномерное распеделение, его точки лежат внутри $(x,y) \\in [3,4) \\times [4,5)$;\n",
    "- Класс 1. Это нормальное распределение, его точки имеют $\\mu_x = 1, \\sigma_x = 0.1$ по $x$ и $\\mu_y = 1, \\sigma_y = 0.7$ по $y$;\n",
    "- Класс 2. Это равномерное распеделение, его точки лежат внутри $(x,y) \\in [5,6) \\times [0,1)$."
   ]
  },
  {
   "cell_type": "code",
   "execution_count": 5,
   "id": "magnetic-anthony",
   "metadata": {},
   "outputs": [],
   "source": [
    "Cl_0 = Uniform_Sample([[3,4], [4,5]])\n",
    "Cl_1 = Normal_sample([[1,0.1], [1,0.7]])\n",
    "Cl_2 = Uniform_Sample([[5,6], [0,1]])"
   ]
  },
  {
   "cell_type": "code",
   "execution_count": 6,
   "id": "latin-average",
   "metadata": {},
   "outputs": [],
   "source": [
    "dots0 = Cl_0.generate(20)\n",
    "dots1 = Cl_1.generate(20)\n",
    "dots2 = Cl_2.generate(20)"
   ]
  },
  {
   "cell_type": "code",
   "execution_count": 7,
   "id": "legislative-cambodia",
   "metadata": {},
   "outputs": [],
   "source": [
    "X_train = np.concatenate([dots0,dots1,dots2 ])\n",
    "y_train = np.array([0]*20 + [1]*20 + [2]*20)"
   ]
  },
  {
   "cell_type": "code",
   "execution_count": 8,
   "id": "turned-costume",
   "metadata": {},
   "outputs": [],
   "source": [
    "testsample = Uniform_Sample([[0,6], [0,5]])\n",
    "X_test = testsample.generate(100)"
   ]
  },
  {
   "cell_type": "code",
   "execution_count": 9,
   "id": "whole-newsletter",
   "metadata": {},
   "outputs": [
    {
     "data": {
      "text/plain": [
       "Text(0.5, 1.0, 'Before classification')"
      ]
     },
     "execution_count": 9,
     "metadata": {},
     "output_type": "execute_result"
    },
    {
     "data": {
      "image/png": "[encoded data removed]",
      "text/plain": [
       "<Figure size 864x720 with 1 Axes>"
      ]
     },
     "metadata": {
      "needs_background": "light"
     },
     "output_type": "display_data"
    }
   ],
   "source": [
    "fig = plt.figure(figsize = (12,10))\n",
    "colors = ['red', 'blue', 'green']\n",
    "labels = [f'Type {i+1}' for i in range(3)]\n",
    "dots_list = X_train.reshape(3,20,2)\n",
    "for index,dots in enumerate(dots_list):\n",
    "    plt.scatter(dots.T[0], dots.T[1], c = colors[index], label = labels[index])\n",
    "plt.scatter(X_test.T[0], X_test.T[1], c='black', label = 'Test points')\n",
    "plt.axis('equal')\n",
    "plt.grid(alpha=0.2)\n",
    "plt.legend()\n",
    "plt.title('Before classification')"
   ]
  },
  {
   "cell_type": "markdown",
   "id": "parallel-treasury",
   "metadata": {},
   "source": [
    "## Метод 1"
   ]
  },
  {
   "cell_type": "markdown",
   "id": "green-portfolio",
   "metadata": {},
   "source": [
    "Абстрактный класс"
   ]
  },
  {
   "cell_type": "code",
   "execution_count": 10,
   "id": "atomic-bread",
   "metadata": {},
   "outputs": [],
   "source": [
    "class MyModel (ABC):\n",
    "    def fit(self,X,y):\n",
    "        \"\"\"\n",
    "        fit model. \n",
    "        X - dots. shape (N, dim)\n",
    "        y - labels. shape (N,)\n",
    "        \"\"\"\n",
    "        self.dim = X.shape[-1]\n",
    "        \n",
    "        self.labels = np.unique(y)\n",
    "        self.means = []\n",
    "        for i in range(len(self.labels)):\n",
    "            self.means.append(X[np.where(y == self.labels[i])].sum(axis = 0) /\n",
    "                             (y == self.labels[i]).sum())\n",
    "        self.means = np.array(self.means)\n",
    "    @abstractmethod\n",
    "    def predict(self,X):\n",
    "        \"\"\"\n",
    "        predicts an unambiguous answer (only 1 class for each point)\n",
    "        X - the points for which the prediction is made\n",
    "        \"\"\"\n",
    "        pass"
   ]
  },
  {
   "cell_type": "markdown",
   "id": "vertical-resident",
   "metadata": {},
   "source": [
    "### Описание метода\n",
    "\n",
    "Для классификации используются центры масс классов:\n",
    "$$\n",
    "M_k = \\frac{ \\sum_{j=1}^L \\textbf{y}^k_j}{L}\n",
    "$$\n",
    "где $M_k$ -- центр масс $k$-го класса. $L$ -- количество элементов(вектров) в классе. $y^k_j$ -- элемент(вектор) $k$-го класса.\n",
    "\n",
    "Будем классифицировать точки по наиболее значимой разнице до центров масс классов. \n",
    "\n",
    "Пусть $M^1, \\ldots, M^m$ -- центры масс классов. $X = \\left(x_1, \\ldots, x_n \\right)$ -- точка, которую нужно классифицировать.\n",
    "\n",
    "Для каждого измерения $i \\in \\{1, \\ldots, n\\}$  будем считать расстояние от точки до центров масс классов и считать следующее выражение для каждого класса\n",
    "$$\n",
    "    \\frac{|M^k_i -x_i|}{ \\left(\\sum_{j \\ne k} |M^j_i - x_i|\\right)/(m-1)}\n",
    "$$\n",
    "делим расстояние до текущего класса на среднее расстояние до остальных классов. Либо\n",
    "\n",
    "$$\n",
    "    \\frac{|M^k_i -x_i|}{\\min_{j \\ne k} |M^j_i - x_i|}\n",
    "$$\n",
    "делим расстояние до текущего класса на миимальное расстояние до остальных классов.\n",
    "\n",
    "В итоге получаем $m \\cdot n$ значений (для каждого измерения и каждого класса). Выбираем минимальное значение, и класс, что ему соответствует будет результатом."
   ]
  },
  {
   "cell_type": "code",
   "execution_count": 11,
   "id": "banner-preference",
   "metadata": {},
   "outputs": [],
   "source": [
    "class Method_1(MyModel):\n",
    "    def __init__(self, mean= False):\n",
    "        self.mean = mean # по умолчанию берется минимум\n",
    "    def predict(self,X):\n",
    "        dist_cl = [] # distances to classes\n",
    "        for mean_cl in self.means:\n",
    "            dist_cl.append(np.abs(X - mean_cl))\n",
    "        dist_cl = np.swapaxes(np.array(dist_cl),0,1)\n",
    "        \n",
    "        if self.mean:\n",
    "            divider = dist_cl.copy()\n",
    "            for i in range(dist_cl.shape[1]):\n",
    "                index = list(range(i))+ list(range(i+1, dist_cl.shape[1]))\n",
    "#                 divider[:,i,:] = (dist_cl.sum(axis = 1)  - dist_cl[:,i,:])/ (dist_cl.shape[1]-1)\n",
    "                divider[:,i,:] = dist_cl[:,index,:].mean(axis = 1)\n",
    "        else:\n",
    "            divider = dist_cl.copy()\n",
    "            for i in range(dist_cl.shape[1]):\n",
    "                index = list(range(i))+ list(range(i+1, dist_cl.shape[1]))\n",
    "                divider[:,i,:] = dist_cl[:,index,:].min(axis = 1)\n",
    "        \n",
    "        dist_cl  = dist_cl/divider\n",
    "        dist_cl = dist_cl.min(axis = -1)\n",
    "        return np.array([self.labels[i] for i in dist_cl.argmin(axis=-1)])\n",
    "\n",
    "    def my_predict(self,X):\n",
    "        \"\"\"\n",
    "        возвращает список списков с метками классов. \n",
    "        В случае неопределеннойсти вернет список классов, \n",
    "        к которым может относится точка.\n",
    "        \"\"\"\n",
    "        dist_cl = [] # distances to classes\n",
    "        for mean_cl in self.means:\n",
    "            dist_cl.append(np.abs(X - mean_cl))\n",
    "        dist_cl = np.swapaxes(np.array(dist_cl),0,1)\n",
    "        if self.mean:\n",
    "            divider = dist_cl.copy()\n",
    "            for i in range(dist_cl.shape[1]):\n",
    "                index = list(range(i))+ list(range(i+1, dist_cl.shape[1]))\n",
    "#                 divider[:,i,:] = (dist_cl.sum(axis = 1)  - dist_cl[:,i,:])/ (dist_cl.shape[1]-1)\n",
    "                divider[:,i,:] = dist_cl[:,index,:].mean(axis = 1)\n",
    "        else:\n",
    "            divider = dist_cl.copy()\n",
    "            for i in range(dist_cl.shape[1]):\n",
    "                index = list(range(i))+ list(range(i+1, dist_cl.shape[1]))\n",
    "                divider[:,i,:] = dist_cl[:,index,:].min(axis = 1)\n",
    "                \n",
    "        dist_cl  = dist_cl/divider\n",
    "        dist_cl = dist_cl.min(axis = -1)\n",
    "        return [list(self.labels[np.where(dist_cl[i] == dist_cl[i].min())]) for i in range(dist_cl.shape[0])]"
   ]
  },
  {
   "cell_type": "markdown",
   "id": "thrown-argument",
   "metadata": {},
   "source": [
    "### Тесты на плоскости"
   ]
  },
  {
   "cell_type": "code",
   "execution_count": 12,
   "id": "yellow-height",
   "metadata": {},
   "outputs": [],
   "source": [
    "cls = Method_1()\n",
    "cls.fit(X_train,y_train)"
   ]
  },
  {
   "cell_type": "code",
   "execution_count": 13,
   "id": "welcome-airline",
   "metadata": {},
   "outputs": [],
   "source": [
    "y_test = cls.predict(X_test)"
   ]
  },
  {
   "cell_type": "code",
   "execution_count": 14,
   "id": "incorporated-dialogue",
   "metadata": {},
   "outputs": [],
   "source": [
    "xx, yy = np.meshgrid(np.linspace(-1,6, 500),np.linspace(-1,6, 500))\n",
    "\n",
    "z = cls.predict(np.c_[xx.ravel(), yy.ravel()])\n",
    "Z = z.reshape(xx.shape)"
   ]
  },
  {
   "cell_type": "code",
   "execution_count": 15,
   "id": "greater-warren",
   "metadata": {},
   "outputs": [
    {
     "name": "stderr",
     "output_type": "stream",
     "text": [
      "<ipython-input-15-80299d1f1873>:8: MatplotlibDeprecationWarning: shading='flat' when X and Y have the same dimensions as C is deprecated since 3.3.  Either specify the corners of the quadrilaterals with X and Y, or pass shading='auto', 'nearest' or 'gouraud', or set rcParams['pcolor.shading'].  This will become an error two minor releases later.\n",
      "  plt.pcolormesh(xx, yy, Z, cmap=cmap_light)\n"
     ]
    },
    {
     "data": {
      "text/plain": [
       "Text(0.5, 1.0, 'Method 1')"
      ]
     },
     "execution_count": 15,
     "metadata": {},
     "output_type": "execute_result"
    },
    {
     "data": {
      "image/png": "[encoded data removed]",
      "text/plain": [
       "<Figure size 864x864 with 1 Axes>"
      ]
     },
     "metadata": {
      "needs_background": "light"
     },
     "output_type": "display_data"
    }
   ],
   "source": [
    "from matplotlib.colors import ListedColormap, LinearSegmentedColormap\n",
    "fig = plt.figure(figsize = (12,12))\n",
    "colors = ['red', 'blue', 'green']\n",
    "res_colors = ['brown', 'cyan', 'yellow']\n",
    "labels = [f'Class {i}' for i in range(3)]\n",
    "\n",
    "cmap_light = ListedColormap(['mistyrose', 'lightcyan', 'palegreen'])\n",
    "plt.pcolormesh(xx, yy, Z, cmap=cmap_light)\n",
    "\n",
    "dots_list = X_train.reshape(3,-1,2)\n",
    "for index,dots in enumerate(dots_list):\n",
    "    plt.scatter(dots.T[0], dots.T[1], c = colors[index], label = labels[index])\n",
    "    plt.scatter(cls.means[index][0], cls.means[index][1], marker='x',c= colors[index], label = labels[index]+' mean')\n",
    "for i in range(len(X_test)):\n",
    "    plt.scatter(X_test[i][0],X_test[i][1], c= res_colors[y_test[i]])\n",
    "plt.axis('equal')\n",
    "plt.grid(alpha=0.2)\n",
    "plt.legend()\n",
    "plt.title('Method 1')"
   ]
  },
  {
   "cell_type": "markdown",
   "id": "senior-waters",
   "metadata": {},
   "source": [
    "Выведем некоторое количество точек для наглядности"
   ]
  },
  {
   "cell_type": "code",
   "execution_count": 16,
   "id": "nearby-orange",
   "metadata": {},
   "outputs": [
    {
     "name": "stdout",
     "output_type": "stream",
     "text": [
      "Dot: [5.65745822 1.61601466] has class: [2]\n",
      "Dot: [3.11274373 3.51509479] has class: [0]\n",
      "Dot: [2.18177761 4.85891041] has class: [0]\n",
      "Dot: [5.77468377 1.25891148] has class: [2]\n",
      "Dot: [2.98349104 1.50439155] has class: [0]\n",
      "Dot: [1.70904297 0.18443474] has class: [2]\n",
      "Dot: [3.657386   2.51339512] has class: [0]\n",
      "Dot: [0.30887251 1.39323232] has class: [1]\n",
      "Dot: [5.44959532 1.19780945] has class: [2]\n",
      "Dot: [0.86936923 2.4472638 ] has class: [1]\n"
     ]
    }
   ],
   "source": [
    "n = 10\n",
    "y_test_cl = cls.my_predict(X_test[:n])\n",
    "for i in range(n):\n",
    "    print(f\"Dot: {X_test[i]} has class: {y_test_cl[i]}\")"
   ]
  },
  {
   "cell_type": "markdown",
   "id": "worldwide-techno",
   "metadata": {},
   "source": [
    "## Метод 2"
   ]
  },
  {
   "cell_type": "markdown",
   "id": "atlantic-module",
   "metadata": {},
   "source": [
    "### Описание метода\n",
    "\n",
    "Аналогично используются центры масс.\n",
    "\n",
    "Для класификации выбираем класс, что имеет наименьшее расстояние до точки по наибольшему количеству измерений.\n",
    "\n",
    "Посчитаем следующую величину\n",
    "$$\n",
    "    \\left( \\text{argmin}_{j \\in\\{1,\\ldots, m\\}}|M^j_1 - x_1|, \\ldots, \\text{argmin}_{j \\in \\{1,\\ldots, m\\}}|M^j_n - x_n| \\right)\n",
    "$$\n",
    "\n",
    "А потом выбираем тот класс, что встечался чаще всего."
   ]
  },
  {
   "cell_type": "code",
   "execution_count": 17,
   "id": "iraqi-currency",
   "metadata": {},
   "outputs": [],
   "source": [
    "from scipy import stats\n",
    "\n",
    "class Method_2(MyModel):\n",
    "    def predict(self,X):\n",
    "        dist_cl = [] # distances to classes\n",
    "        for mean_cl in self.means:\n",
    "            dist_cl.append(np.abs(X - mean_cl))\n",
    "        dist_cl = np.swapaxes(np.array(dist_cl),0,1)\n",
    "        \n",
    "        numbers_cl  = dist_cl.argmin(axis = 1)\n",
    "        numbers_cl = stats.mode(numbers_cl, axis  = 1)[0].reshape(-1)\n",
    "\n",
    "        return np.array([self.labels[i] for i in numbers_cl])\n",
    "    \n",
    "    def my_predict(self,X):\n",
    "        \"\"\"\n",
    "        возвращает список списков с метками классов. \n",
    "        В случае неопределеннойсти вернет список классов, \n",
    "        к которым может относится точка.\n",
    "        \"\"\"\n",
    "        dist_cl = [] # distances to classes\n",
    "        for mean_cl in self.means:\n",
    "            dist_cl.append(np.abs(X - mean_cl))\n",
    "        dist_cl = np.swapaxes(np.array(dist_cl),0,1)\n",
    "        \n",
    "        numbers_cl  = dist_cl.argmin(axis = 1)\n",
    "        \n",
    "        res = []\n",
    "                \n",
    "        for i in range(numbers_cl.shape[0]):\n",
    "            classes, freq = np.unique(numbers_cl[i], return_counts=True)\n",
    "            res.append([self.labels[classes[i]] for i in range(len(classes)) if freq[i] == freq.max()])\n",
    "        return res"
   ]
  },
  {
   "cell_type": "markdown",
   "id": "wrong-cologne",
   "metadata": {},
   "source": [
    "### Тесты на плоскости"
   ]
  },
  {
   "cell_type": "code",
   "execution_count": 18,
   "id": "satellite-negotiation",
   "metadata": {},
   "outputs": [],
   "source": [
    "cls = Method_2()\n",
    "cls.fit(X_train,y_train)"
   ]
  },
  {
   "cell_type": "code",
   "execution_count": 19,
   "id": "solar-pledge",
   "metadata": {},
   "outputs": [],
   "source": [
    "y_test = cls.predict(X_test)"
   ]
  },
  {
   "cell_type": "code",
   "execution_count": 20,
   "id": "average-progress",
   "metadata": {},
   "outputs": [],
   "source": [
    "xx, yy = np.meshgrid(np.linspace(-1,6, 500),np.linspace(-1,6, 500))\n",
    "\n",
    "z = cls.predict(np.c_[xx.ravel(), yy.ravel()])\n",
    "Z = z.reshape(xx.shape)"
   ]
  },
  {
   "cell_type": "code",
   "execution_count": 21,
   "id": "cleared-batch",
   "metadata": {},
   "outputs": [
    {
     "name": "stderr",
     "output_type": "stream",
     "text": [
      "<ipython-input-21-4bdc82806966>:8: MatplotlibDeprecationWarning: shading='flat' when X and Y have the same dimensions as C is deprecated since 3.3.  Either specify the corners of the quadrilaterals with X and Y, or pass shading='auto', 'nearest' or 'gouraud', or set rcParams['pcolor.shading'].  This will become an error two minor releases later.\n",
      "  plt.pcolormesh(xx, yy, Z, cmap=cmap_light)\n"
     ]
    },
    {
     "data": {
      "text/plain": [
       "Text(0.5, 1.0, 'Method 2')"
      ]
     },
     "execution_count": 21,
     "metadata": {},
     "output_type": "execute_result"
    },
    {
     "data": {
      "image/png": "[encoded data removed]",
      "text/plain": [
       "<Figure size 864x864 with 1 Axes>"
      ]
     },
     "metadata": {
      "needs_background": "light"
     },
     "output_type": "display_data"
    }
   ],
   "source": [
    "from matplotlib.colors import ListedColormap, LinearSegmentedColormap\n",
    "fig = plt.figure(figsize = (12,12))\n",
    "colors = ['red', 'blue', 'green']\n",
    "res_colors = ['brown', 'cyan', 'yellow']\n",
    "labels = [f'Class {i}' for i in range(3)]\n",
    "\n",
    "cmap_light = ListedColormap(['mistyrose', 'lightcyan', 'palegreen'])\n",
    "plt.pcolormesh(xx, yy, Z, cmap=cmap_light)\n",
    "\n",
    "dots_list = X_train.reshape(3,-1,2)\n",
    "for index,dots in enumerate(dots_list):\n",
    "    plt.scatter(dots.T[0], dots.T[1], c = colors[index], label = labels[index])\n",
    "    plt.scatter(cls.means[index][0], cls.means[index][1], marker='x',c= colors[index], label = labels[index]+' mean')\n",
    "for i in range(len(X_test)):\n",
    "    plt.scatter(X_test[i][0],X_test[i][1], c= res_colors[y_test[i]])\n",
    "plt.axis('equal')\n",
    "plt.grid(alpha=0.2)\n",
    "plt.legend()\n",
    "plt.title('Method 2')"
   ]
  },
  {
   "cell_type": "markdown",
   "id": "thermal-radio",
   "metadata": {},
   "source": [
    "Выведем некоторое количество точек для наглядности"
   ]
  },
  {
   "cell_type": "code",
   "execution_count": 22,
   "id": "invalid-machine",
   "metadata": {},
   "outputs": [
    {
     "name": "stdout",
     "output_type": "stream",
     "text": [
      "Dot: [5.65745822 1.61601466] has class: [1, 2]\n",
      "Dot: [3.11274373 3.51509479] has class: [0]\n",
      "Dot: [2.18177761 4.85891041] has class: [0, 1]\n",
      "Dot: [5.77468377 1.25891148] has class: [1, 2]\n",
      "Dot: [2.98349104 1.50439155] has class: [0, 1]\n",
      "Dot: [1.70904297 0.18443474] has class: [1, 2]\n",
      "Dot: [3.657386   2.51339512] has class: [0, 1]\n",
      "Dot: [0.30887251 1.39323232] has class: [1]\n",
      "Dot: [5.44959532 1.19780945] has class: [1, 2]\n",
      "Dot: [0.86936923 2.4472638 ] has class: [1]\n"
     ]
    }
   ],
   "source": [
    "n = 10\n",
    "y_test_cl = cls.my_predict(X_test[:n])\n",
    "for i in range(n):\n",
    "    print(f\"Dot: {X_test[i]} has class: {y_test_cl[i]}\")"
   ]
  },
  {
   "cell_type": "markdown",
   "id": "weekly-happiness",
   "metadata": {},
   "source": [
    "## Метод 3"
   ]
  },
  {
   "cell_type": "markdown",
   "id": "loose-optimization",
   "metadata": {},
   "source": [
    "### Описание метода\n",
    "\n",
    "Аналогично используются центры масс.\n",
    "\n",
    "Посчитаем сумму расстояний от точки до центров масс классов по каждому измерению. Выберем тот класс, у которого сумма наименьшая.\n",
    "\n",
    "Выбираем класс по следующему правилу\n",
    "$$\n",
    "\\text{argmin}_{j \\in\\{1,\\ldots, m\\}} \\left( \\sum_{i=1}^n |M^j_i - x_i| \\right)\n",
    "$$"
   ]
  },
  {
   "cell_type": "code",
   "execution_count": 23,
   "id": "pointed-cedar",
   "metadata": {},
   "outputs": [],
   "source": [
    "class Method_3(MyModel):\n",
    "    def predict(self,X):\n",
    "        dist_cl = [] # distances to classes\n",
    "        for mean_cl in self.means:\n",
    "            dist_cl.append(np.abs(X - mean_cl))\n",
    "\n",
    "        dist_cl = np.swapaxes(np.array(dist_cl),0,1)\n",
    "        dist_cl  = dist_cl.sum(axis = -1)\n",
    "\n",
    "        return np.array([self.labels[i] for i in dist_cl.argmin(axis=-1)])\n",
    "    def my_predict(self,X):\n",
    "        \"\"\"\n",
    "        возвращает список списков с метками классов. \n",
    "        В случае неопределеннойсти вернет список классов, \n",
    "        к которым может относится точка.\n",
    "        \"\"\"\n",
    "        dist_cl = [] # distances to classes\n",
    "        for mean_cl in self.means:\n",
    "            dist_cl.append(np.abs(X - mean_cl))\n",
    "\n",
    "        dist_cl = np.swapaxes(np.array(dist_cl),0,1)\n",
    "        dist_cl  = dist_cl.sum(axis = -1)\n",
    "\n",
    "        return [list(self.labels[np.where(dist_cl[i] == dist_cl[i].min())]) for i in range(dist_cl.shape[0])]"
   ]
  },
  {
   "cell_type": "markdown",
   "id": "norwegian-signal",
   "metadata": {},
   "source": [
    "### Тесты на плоскости"
   ]
  },
  {
   "cell_type": "code",
   "execution_count": 24,
   "id": "stopped-jefferson",
   "metadata": {},
   "outputs": [],
   "source": [
    "cls = Method_3()\n",
    "cls.fit(X_train,y_train)"
   ]
  },
  {
   "cell_type": "code",
   "execution_count": 25,
   "id": "dominant-sheffield",
   "metadata": {},
   "outputs": [],
   "source": [
    "y_test = cls.predict(X_test)"
   ]
  },
  {
   "cell_type": "code",
   "execution_count": 26,
   "id": "surrounded-lexington",
   "metadata": {},
   "outputs": [],
   "source": [
    "xx, yy = np.meshgrid(np.linspace(-1,6, 500),np.linspace(-1,6, 500))\n",
    "\n",
    "z = cls.predict(np.c_[xx.ravel(), yy.ravel()])\n",
    "Z = z.reshape(xx.shape)"
   ]
  },
  {
   "cell_type": "code",
   "execution_count": 27,
   "id": "advised-footwear",
   "metadata": {},
   "outputs": [
    {
     "name": "stderr",
     "output_type": "stream",
     "text": [
      "<ipython-input-27-ac6a7701e0f5>:9: MatplotlibDeprecationWarning: shading='flat' when X and Y have the same dimensions as C is deprecated since 3.3.  Either specify the corners of the quadrilaterals with X and Y, or pass shading='auto', 'nearest' or 'gouraud', or set rcParams['pcolor.shading'].  This will become an error two minor releases later.\n",
      "  plt.pcolormesh(xx, yy, Z, cmap=cmap_light)\n"
     ]
    },
    {
     "data": {
      "text/plain": [
       "Text(0.5, 1.0, 'Method 3')"
      ]
     },
     "execution_count": 27,
     "metadata": {},
     "output_type": "execute_result"
    },
    {
     "data": {
      "image/png": "[encoded data removed]",
      "text/plain": [
       "<Figure size 864x864 with 1 Axes>"
      ]
     },
     "metadata": {
      "needs_background": "light"
     },
     "output_type": "display_data"
    }
   ],
   "source": [
    "from matplotlib.colors import ListedColormap, LinearSegmentedColormap\n",
    "fig = plt.figure(figsize = (12,12))\n",
    "\n",
    "colors = ['red', 'blue', 'green']\n",
    "res_colors = ['brown', 'cyan', 'yellow']\n",
    "labels = [f'Class {i}' for i in range(3)]\n",
    "\n",
    "cmap_light = ListedColormap(['mistyrose', 'lightcyan', 'palegreen'])\n",
    "plt.pcolormesh(xx, yy, Z, cmap=cmap_light)\n",
    "\n",
    "dots_list = X_train.reshape(3,-1,2)\n",
    "for index,dots in enumerate(dots_list):\n",
    "    plt.scatter(dots.T[0], dots.T[1], c = colors[index], label = labels[index])\n",
    "    plt.scatter(cls.means[index][0], cls.means[index][1], marker='x',c= colors[index], label = labels[index]+' mean')\n",
    "for i in range(len(X_test)):\n",
    "    plt.scatter(X_test[i][0],X_test[i][1], c= res_colors[y_test[i]])\n",
    "plt.axis('equal')\n",
    "plt.grid(alpha=0.2)\n",
    "plt.legend()\n",
    "plt.title('Method 3')"
   ]
  },
  {
   "cell_type": "markdown",
   "id": "incredible-sperm",
   "metadata": {},
   "source": [
    "Выведем некоторое количество точек для наглядности"
   ]
  },
  {
   "cell_type": "code",
   "execution_count": 28,
   "id": "accessible-franklin",
   "metadata": {},
   "outputs": [
    {
     "name": "stdout",
     "output_type": "stream",
     "text": [
      "Dot: [5.65745822 1.61601466] has class: [2]\n",
      "Dot: [3.11274373 3.51509479] has class: [0]\n",
      "Dot: [2.18177761 4.85891041] has class: [0]\n",
      "Dot: [5.77468377 1.25891148] has class: [2]\n",
      "Dot: [2.98349104 1.50439155] has class: [1]\n",
      "Dot: [1.70904297 0.18443474] has class: [1]\n",
      "Dot: [3.657386   2.51339512] has class: [0]\n",
      "Dot: [0.30887251 1.39323232] has class: [1]\n",
      "Dot: [5.44959532 1.19780945] has class: [2]\n",
      "Dot: [0.86936923 2.4472638 ] has class: [1]\n"
     ]
    }
   ],
   "source": [
    "n = 10\n",
    "y_test_cl = cls.my_predict(X_test[:n])\n",
    "for i in range(n):\n",
    "    print(f\"Dot: {X_test[i]} has class: {y_test_cl[i]}\")"
   ]
  },
  {
   "cell_type": "markdown",
   "id": "cellular-grade",
   "metadata": {},
   "source": [
    "## Многомерная классификация\n",
    "\n",
    "Для тестов будем использовать датасет **Ирисы Фишера**.\n",
    "\n",
    "Оценивать точность будем следующим образом (`sklearn` метрика *accuracy*)\n",
    "\n",
    "$$\n",
    "\\text{accuracy} = \\frac{\\text{количество верных ответов}}{\\text{общее количество точек для классификации}}\n",
    "$$"
   ]
  },
  {
   "cell_type": "code",
   "execution_count": 29,
   "id": "developmental-computer",
   "metadata": {},
   "outputs": [],
   "source": [
    "from sklearn.datasets import load_iris\n",
    "from sklearn.model_selection import cross_validate,StratifiedKFold\n",
    "from sklearn.preprocessing import StandardScaler\n",
    "from sklearn.pipeline import make_pipeline\n",
    "import pandas as pd"
   ]
  },
  {
   "cell_type": "code",
   "execution_count": 30,
   "id": "elementary-flash",
   "metadata": {},
   "outputs": [],
   "source": [
    "iris = load_iris()"
   ]
  },
  {
   "cell_type": "markdown",
   "id": "celtic-burning",
   "metadata": {},
   "source": [
    "### Метод 1 с использованием минимума"
   ]
  },
  {
   "cell_type": "code",
   "execution_count": 31,
   "id": "material-destiny",
   "metadata": {},
   "outputs": [
    {
     "name": "stdout",
     "output_type": "stream",
     "text": [
      "test_accuracy: [0.867 0.867 0.733 0.9   0.8  ]\n",
      "mean accuracy: 0.833\n"
     ]
    }
   ],
   "source": [
    "cv = StratifiedKFold(n_splits=5, random_state=42, shuffle=True)\n",
    "cls = make_pipeline(StandardScaler(), Method_1())\n",
    "accuracy = cross_validate(cls, iris.data, iris.target, \n",
    "               scoring=['accuracy'], cv = cv)\n",
    "print('test_accuracy:', np.around(accuracy['test_accuracy'],decimals =3 ))\n",
    "print('mean accuracy:', round(accuracy['test_accuracy'].mean(), 3))"
   ]
  },
  {
   "cell_type": "markdown",
   "id": "comic-mention",
   "metadata": {},
   "source": [
    "### Метод 1 с использованием среднего"
   ]
  },
  {
   "cell_type": "code",
   "execution_count": 32,
   "id": "identical-commodity",
   "metadata": {},
   "outputs": [
    {
     "name": "stdout",
     "output_type": "stream",
     "text": [
      "test_accuracy: [0.9   0.867 0.767 0.933 0.833]\n",
      "mean accuracy: 0.86\n"
     ]
    }
   ],
   "source": [
    "cv = StratifiedKFold(n_splits=5, random_state=42, shuffle=True)\n",
    "cls = make_pipeline(StandardScaler(), Method_1(mean =True))\n",
    "accuracy = cross_validate(cls, iris.data, iris.target, \n",
    "               scoring=['accuracy'], cv = cv)\n",
    "print('test_accuracy:', np.around(accuracy['test_accuracy'],decimals =3 ))\n",
    "print('mean accuracy:', round(accuracy['test_accuracy'].mean(), 3))"
   ]
  },
  {
   "cell_type": "markdown",
   "id": "structured-freedom",
   "metadata": {},
   "source": [
    "### Метод 2"
   ]
  },
  {
   "cell_type": "code",
   "execution_count": 33,
   "id": "whole-probability",
   "metadata": {},
   "outputs": [
    {
     "name": "stdout",
     "output_type": "stream",
     "text": [
      "test_accuracy: [0.933 0.9   0.933 0.967 0.833]\n",
      "mean accuracy: 0.913\n"
     ]
    }
   ],
   "source": [
    "cv = StratifiedKFold(n_splits=5, random_state=42, shuffle=True)\n",
    "cls = make_pipeline(StandardScaler(), Method_2())\n",
    "accuracy =  cross_validate(cls, iris.data, iris.target, \n",
    "               scoring=['accuracy'], cv = cv)\n",
    "print('test_accuracy:', np.around(accuracy['test_accuracy'],decimals =3 ))\n",
    "print('mean accuracy:', round(accuracy['test_accuracy'].mean(), 3))"
   ]
  },
  {
   "cell_type": "markdown",
   "id": "federal-martial",
   "metadata": {},
   "source": [
    "### Метод 3"
   ]
  },
  {
   "cell_type": "code",
   "execution_count": 34,
   "id": "micro-clear",
   "metadata": {},
   "outputs": [
    {
     "name": "stdout",
     "output_type": "stream",
     "text": [
      "test_accuracy: [0.967 0.9   0.8   0.967 0.8  ]\n",
      "mean accuracy: 0.887\n"
     ]
    }
   ],
   "source": [
    "cv = StratifiedKFold(n_splits=5, random_state=42, shuffle=True)\n",
    "cls = make_pipeline(StandardScaler(), Method_3())\n",
    "accuracy =  cross_validate(cls, iris.data, iris.target, \n",
    "                scoring=['accuracy'], cv = cv)\n",
    "print('test_accuracy:', np.around(accuracy['test_accuracy'],decimals =3 ))\n",
    "print('mean accuracy:', round(accuracy['test_accuracy'].mean(), 3))"
   ]
  },
  {
   "cell_type": "markdown",
   "id": "complex-librarian",
   "metadata": {},
   "source": [
    "## Результат\n",
    "\n",
    "Метод 2 показал себя наилучшим образом на Ирисах Фишера, однако для классификации точек на плоскости этот метод показывает себя плохо (много неопределенных точек). "
   ]
  },
  {
   "cell_type": "code",
   "execution_count": null,
   "id": "interstate-recycling",
   "metadata": {},
   "outputs": [],
   "source": []
  }
 ],
 "metadata": {
  "kernelspec": {
   "display_name": "Python 3",
   "language": "python",
   "name": "python3"
  },
  "language_info": {
   "codemirror_mode": {
    "name": "ipython",
    "version": 3
   },
   "file_extension": ".py",
   "mimetype": "text/x-python",
   "name": "python",
   "nbconvert_exporter": "python",
   "pygments_lexer": "ipython3",
   "version": "3.8.8"
  }
 },
 "nbformat": 4,
 "nbformat_minor": 5
}
