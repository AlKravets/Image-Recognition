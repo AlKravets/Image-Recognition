{
 "cells": [
  {
   "cell_type": "markdown",
   "id": "patent-gallery",
   "metadata": {},
   "source": [
    "# Лабораторная работа №4 \"Классификация в многомерном пространстве\""
   ]
  },
  {
   "cell_type": "code",
   "execution_count": 3,
   "id": "received-degree",
   "metadata": {},
   "outputs": [],
   "source": [
    "import numpy as np\n",
    "import matplotlib.pyplot as plt\n",
    "from abc import ABC, abstractmethod\n",
    "np.random.seed(42)"
   ]
  },
  {
   "cell_type": "markdown",
   "id": "related-pollution",
   "metadata": {},
   "source": [
    "## Постановка задачи\n",
    "\n",
    "Имеем обучающую выборку в виде векторов многомерного пространства (размерность: 4 - 6). Выборка разделена на 3 непересекающиеся классы. \n",
    "\n",
    "Необходимо, на основе обучающей выборки, провести классификацию тестовой выборки тремя разными способами. Способы будут описаны ниже."
   ]
  },
  {
   "cell_type": "markdown",
   "id": "possible-essay",
   "metadata": {},
   "source": [
    "## Создание выборок"
   ]
  },
  {
   "cell_type": "code",
   "execution_count": 61,
   "id": "disciplinary-metabolism",
   "metadata": {},
   "outputs": [],
   "source": [
    "class ABC_Sample(ABC):\n",
    "  \n",
    "    @abstractmethod\n",
    "    def generate(self, n):\n",
    "        \"\"\"\n",
    "        сгенерировать множество из n точек класса\n",
    "        \"\"\"\n",
    "        pass"
   ]
  },
  {
   "cell_type": "code",
   "execution_count": 62,
   "id": "waiting-muslim",
   "metadata": {},
   "outputs": [],
   "source": [
    "class Uniform_Sample(ABC_Sample):\n",
    "    def __init__(self, limits_list):\n",
    "        \"\"\"\n",
    "        limits_list is list with limits for each dimension\n",
    "        limits_list = [[min_1, max_1], ..., [min_n, max_n]]\n",
    "        \"\"\"\n",
    "        self.limits_list = np.array(limits_list)\n",
    "        self.dim = len(limits_list)\n",
    "    def generate(self,n):\n",
    "        return np.random.random((n,self.dim)) * \\\n",
    "            (self.limits_list[:,1] - self.limits_list[:,0]) + self.limits_list[:,0]"
   ]
  },
  {
   "cell_type": "code",
   "execution_count": 66,
   "id": "separate-costa",
   "metadata": {},
   "outputs": [],
   "source": [
    "class Normal_sample(ABC_Sample):\n",
    "    def __init__ (self, params_list):\n",
    "        \"\"\"\n",
    "        limits_list is list with mean and Standard deviation for each dimension\n",
    "        limits_list = [[mu_1, sigma_1], ..., [mu_n, sigma_n]]\n",
    "        \"\"\"\n",
    "        self.params_list = np.array(params_list)\n",
    "        self.dim = len(params_list)\n",
    "    def generate(self, n):\n",
    "        return np.hstack([np.random.normal(item[0], item[1],size =  (n,1)) \n",
    "                         for item in self.params_list])"
   ]
  },
  {
   "cell_type": "code",
   "execution_count": null,
   "id": "ready-milton",
   "metadata": {},
   "outputs": [],
   "source": []
  },
  {
   "cell_type": "code",
   "execution_count": null,
   "id": "atomic-bread",
   "metadata": {},
   "outputs": [],
   "source": [
    "class Model (ABC):\n",
    "    def fit(X,y):\n",
    "        \"\"\"\n",
    "        fit model. \n",
    "        X - dots. shape (N, dim)\n",
    "        y - labels. shape (N,)\n",
    "        \"\"\"\n",
    "        pass\n"
   ]
  },
  {
   "cell_type": "code",
   "execution_count": null,
   "id": "lonely-indonesia",
   "metadata": {},
   "outputs": [],
   "source": []
  },
  {
   "cell_type": "code",
   "execution_count": null,
   "id": "banner-preference",
   "metadata": {},
   "outputs": [],
   "source": []
  },
  {
   "cell_type": "code",
   "execution_count": 6,
   "id": "successful-quality",
   "metadata": {},
   "outputs": [],
   "source": [
    "a = np.arange(10)"
   ]
  },
  {
   "cell_type": "code",
   "execution_count": 7,
   "id": "trying-behalf",
   "metadata": {},
   "outputs": [
    {
     "data": {
      "text/plain": [
       "array([0, 1, 2, 3, 4, 5, 6, 7, 8, 9])"
      ]
     },
     "execution_count": 7,
     "metadata": {},
     "output_type": "execute_result"
    }
   ],
   "source": [
    "a"
   ]
  },
  {
   "cell_type": "code",
   "execution_count": 15,
   "id": "special-portland",
   "metadata": {},
   "outputs": [
    {
     "data": {
      "text/plain": [
       "array([[0, 1, 2, 3, 4],\n",
       "       [5, 6, 7, 8, 9]])"
      ]
     },
     "execution_count": 15,
     "metadata": {},
     "output_type": "execute_result"
    }
   ],
   "source": [
    "a = a.reshape(2,5)\n",
    "a"
   ]
  },
  {
   "cell_type": "code",
   "execution_count": 19,
   "id": "organic-geography",
   "metadata": {},
   "outputs": [
    {
     "data": {
      "text/plain": [
       "array([[ 0,  1,  4,  9, 16],\n",
       "       [ 0,  6, 14, 24, 36]])"
      ]
     },
     "execution_count": 19,
     "metadata": {},
     "output_type": "execute_result"
    }
   ],
   "source": [
    "a * np.arange(5)"
   ]
  },
  {
   "cell_type": "code",
   "execution_count": 59,
   "id": "artificial-heating",
   "metadata": {},
   "outputs": [
    {
     "data": {
      "text/plain": [
       "array([[0, 1, 2, 3, 4, 0],\n",
       "       [5, 6, 7, 8, 9, 1]])"
      ]
     },
     "execution_count": 59,
     "metadata": {},
     "output_type": "execute_result"
    }
   ],
   "source": [
    "np.hstack((a, np.arange(2).reshape(-1,1)))"
   ]
  },
  {
   "cell_type": "code",
   "execution_count": 53,
   "id": "furnished-cargo",
   "metadata": {},
   "outputs": [
    {
     "ename": "TypeError",
     "evalue": "'NoneType' object cannot be interpreted as an integer",
     "output_type": "error",
     "traceback": [
      "\u001b[0;31m---------------------------------------------------------------------------\u001b[0m",
      "\u001b[0;31mTypeError\u001b[0m                                 Traceback (most recent call last)",
      "\u001b[0;32m<ipython-input-53-c4f0f8306349>\u001b[0m in \u001b[0;36m<module>\u001b[0;34m\u001b[0m\n\u001b[0;32m----> 1\u001b[0;31m \u001b[0mnp\u001b[0m\u001b[0;34m.\u001b[0m\u001b[0marange\u001b[0m\u001b[0;34m(\u001b[0m\u001b[0;36m2\u001b[0m\u001b[0;34m)\u001b[0m\u001b[0;34m.\u001b[0m\u001b[0mreshape\u001b[0m\u001b[0;34m(\u001b[0m\u001b[0;34m(\u001b[0m\u001b[0;36m2\u001b[0m\u001b[0;34m,\u001b[0m \u001b[0mnp\u001b[0m\u001b[0;34m.\u001b[0m\u001b[0mnewaxis\u001b[0m\u001b[0;34m)\u001b[0m\u001b[0;34m)\u001b[0m\u001b[0;34m\u001b[0m\u001b[0;34m\u001b[0m\u001b[0m\n\u001b[0m",
      "\u001b[0;31mTypeError\u001b[0m: 'NoneType' object cannot be interpreted as an integer"
     ]
    }
   ],
   "source": []
  },
  {
   "cell_type": "code",
   "execution_count": null,
   "id": "sexual-checklist",
   "metadata": {},
   "outputs": [],
   "source": []
  }
 ],
 "metadata": {
  "kernelspec": {
   "display_name": "Python 3",
   "language": "python",
   "name": "python3"
  },
  "language_info": {
   "codemirror_mode": {
    "name": "ipython",
    "version": 3
   },
   "file_extension": ".py",
   "mimetype": "text/x-python",
   "name": "python",
   "nbconvert_exporter": "python",
   "pygments_lexer": "ipython3",
   "version": "3.8.8"
  }
 },
 "nbformat": 4,
 "nbformat_minor": 5
}
